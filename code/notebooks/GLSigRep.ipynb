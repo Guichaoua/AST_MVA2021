{
 "cells": [
  {
   "cell_type": "code",
   "execution_count": 1,
   "id": "neither-performer",
   "metadata": {},
   "outputs": [],
   "source": [
    "import numpy as np\n",
    "import pandas as pd\n",
    "\n",
    "from cvxopt import solvers\n",
    "solvers.options['show_progress'] = False\n",
    "\n",
    "import sys\n",
    "sys.path.append(\"../graph_signal_processing\")\n",
    "\n",
    "from graph_generator import line_graph, grid_graph, rbf_random_graph, er_random_graph\n",
    "from graph_signal_generator import smooth_signal_generator\n",
    "from gls_sig_rep import GLSigRep\n",
    "from metrics import F1_score\n",
    "\n",
    "import matplotlib.pyplot as plt"
   ]
  },
  {
   "cell_type": "markdown",
   "id": "classical-plenty",
   "metadata": {},
   "source": [
    "# Generating smooth graphs"
   ]
  },
  {
   "cell_type": "markdown",
   "id": "technical-pencil",
   "metadata": {},
   "source": [
    "lalallalalala"
   ]
  },
  {
   "cell_type": "markdown",
   "id": "unavailable-imperial",
   "metadata": {},
   "source": [
    "# Learning graphs"
   ]
  },
  {
   "cell_type": "code",
   "execution_count": 2,
   "id": "overall-style",
   "metadata": {},
   "outputs": [],
   "source": [
    "n_samples = 1000 # number of signals simulated for each graph\n",
    "n_steps = 100 # number of maximum steps \n",
    "n_trials = 5 # number of trials for each graph and each set of parameters\n",
    "\n",
    "# hyperparameters for the grid search\n",
    "alpha_ = np.logspace(-6, 1, 8)\n",
    "beta_ = np.logspace(-4, 1, 6)\n",
    "threshold_ = np.logspace(-3, -1, 3)"
   ]
  },
  {
   "cell_type": "markdown",
   "id": "elegant-deposit",
   "metadata": {},
   "source": [
    "## Line graph"
   ]
  },
  {
   "cell_type": "code",
   "execution_count": 3,
   "id": "infrared-burke",
   "metadata": {
    "scrolled": true
   },
   "outputs": [
    {
     "name": "stdout",
     "output_type": "stream",
     "text": [
      "alpha : 1e-06; beta : 0.0001; threshold : 0.001 --> F1 = 1.0\n"
     ]
    }
   ],
   "source": [
    "L = line_graph(16)\n",
    "\n",
    "list_alpha = []\n",
    "list_beta = []\n",
    "list_threshold = []\n",
    "list_F1 = []\n",
    "\n",
    "best = 0.\n",
    "for alpha in alpha_:\n",
    "    for beta in beta_:\n",
    "        stats = [0] * len(threshold_)\n",
    "        for _ in range(n_trials):\n",
    "            samples = smooth_signal_generator(L, n_samples)\n",
    "            pred_L, _ = GLSigRep(samples, n_step=n_steps, beta=beta, alpha=alpha)\n",
    "            for i, threshold in enumerate(threshold_):\n",
    "                stats[i] += F1_score(L, pred_L)\n",
    "        for i, threshold in enumerate(threshold_):\n",
    "            list_alpha.append(alpha)\n",
    "            list_beta.append(beta)\n",
    "            list_threshold.append(threshold)\n",
    "            F1 = stats[i] / n_trials\n",
    "            list_F1.append(F1)\n",
    "            if F1 > best:\n",
    "                best = F1\n",
    "                print(\"alpha : {0}; beta : {1}; threshold : {2} --> F1 = {3}\".format(alpha, beta, threshold, F1))\n",
    "                \n",
    "results_line = pd.DataFrame({\"alpha\" : list_alpha, \"beta\" : list_beta, \"threshold\" : list_threshold, \"F1\" : list_F1})\n",
    "        "
   ]
  },
  {
   "cell_type": "markdown",
   "id": "imposed-candidate",
   "metadata": {},
   "source": [
    "## Grid graph"
   ]
  },
  {
   "cell_type": "code",
   "execution_count": 4,
   "id": "graphic-colleague",
   "metadata": {},
   "outputs": [
    {
     "name": "stdout",
     "output_type": "stream",
     "text": [
      "alpha : 1e-06; beta : 0.0001; threshold : 0.001 --> F1 = 0.8987174066243833\n",
      "alpha : 0.0001; beta : 0.01; threshold : 0.001 --> F1 = 0.9232000490241138\n"
     ]
    }
   ],
   "source": [
    "L = grid_graph(16)\n",
    "\n",
    "list_alpha = []\n",
    "list_beta = []\n",
    "list_threshold = []\n",
    "list_F1 = []\n",
    "\n",
    "best = 0.\n",
    "for alpha in alpha_:\n",
    "    for beta in beta_:\n",
    "        stats = [0] * len(threshold_)\n",
    "        for _ in range(n_trials):\n",
    "            samples = smooth_signal_generator(L, n_samples)\n",
    "            pred_L, _ = GLSigRep(samples, n_step=n_steps, beta=beta, alpha=alpha)\n",
    "            for i, threshold in enumerate(threshold_):\n",
    "                stats[i] += F1_score(L, pred_L)\n",
    "        for i, threshold in enumerate(threshold_):\n",
    "            list_alpha.append(alpha)\n",
    "            list_beta.append(beta)\n",
    "            list_threshold.append(threshold)\n",
    "            F1 = stats[i] / n_trials\n",
    "            list_F1.append(F1)\n",
    "            if F1 > best:\n",
    "                best = F1\n",
    "                print(\"alpha : {0}; beta : {1}; threshold : {2} --> F1 = {3}\".format(alpha, beta, threshold, F1))\n",
    "                \n",
    "results_grid = pd.DataFrame({\"alpha\" : list_alpha, \"beta\" : list_beta, \"threshold\" : list_threshold, \"F1\" : list_F1})\n",
    "        "
   ]
  },
  {
   "cell_type": "markdown",
   "id": "bearing-drain",
   "metadata": {},
   "source": [
    "## Rbf random graph"
   ]
  },
  {
   "cell_type": "code",
   "execution_count": 5,
   "id": "iraqi-style",
   "metadata": {},
   "outputs": [
    {
     "name": "stdout",
     "output_type": "stream",
     "text": [
      "alpha : 1e-06; beta : 0.0001; threshold : 0.001 --> F1 = 0.8720507399577168\n",
      "alpha : 1e-05; beta : 0.001; threshold : 0.001 --> F1 = 0.9033242726265982\n",
      "alpha : 0.0001; beta : 0.01; threshold : 0.001 --> F1 = 0.9072840203274986\n",
      "alpha : 0.01; beta : 1.0; threshold : 0.001 --> F1 = 0.9086398872445385\n"
     ]
    }
   ],
   "source": [
    "L = grid_graph(16)\n",
    "\n",
    "list_alpha = []\n",
    "list_beta = []\n",
    "list_threshold = []\n",
    "list_F1 = []\n",
    "\n",
    "best = 0.\n",
    "for alpha in alpha_:\n",
    "    for beta in beta_:\n",
    "        stats = [0] * len(threshold_)\n",
    "        for _ in range(n_trials):\n",
    "            samples = smooth_signal_generator(L, n_samples)\n",
    "            pred_L, _ = GLSigRep(samples, n_step=n_steps, beta=beta, alpha=alpha)\n",
    "            for i, threshold in enumerate(threshold_):\n",
    "                stats[i] += F1_score(L, pred_L)\n",
    "        for i, threshold in enumerate(threshold_):\n",
    "            list_alpha.append(alpha)\n",
    "            list_beta.append(beta)\n",
    "            list_threshold.append(threshold)\n",
    "            F1 = stats[i] / n_trials\n",
    "            list_F1.append(F1)\n",
    "            if F1 > best:\n",
    "                best = F1\n",
    "                print(\"alpha : {0}; beta : {1}; threshold : {2} --> F1 = {3}\".format(alpha, beta, threshold, F1))\n",
    "                \n",
    "results_rbf = pd.DataFrame({\"alpha\" : list_alpha, \"beta\" : list_beta, \"threshold\" : list_threshold, \"F1\" : list_F1})\n",
    "        "
   ]
  },
  {
   "cell_type": "markdown",
   "id": "random-attention",
   "metadata": {},
   "source": [
    "# Some visualizations"
   ]
  },
  {
   "cell_type": "markdown",
   "id": "animal-means",
   "metadata": {},
   "source": [
    "## Line graph"
   ]
  },
  {
   "cell_type": "code",
   "execution_count": 6,
   "id": "informational-hanging",
   "metadata": {},
   "outputs": [],
   "source": [
    "L = line_graph(16)\n",
    "samples = smooth_signal_generator(L, n_samples)\n",
    "pred_L, _ = GLSigRep(samples, n_step=n_steps, beta=1e-4, alpha=1e-6)"
   ]
  },
  {
   "cell_type": "code",
   "execution_count": 7,
   "id": "decent-strain",
   "metadata": {},
   "outputs": [
    {
     "data": {
      "text/plain": [
       "<matplotlib.image.AxesImage at 0x7f95c883e040>"
      ]
     },
     "execution_count": 7,
     "metadata": {},
     "output_type": "execute_result"
    },
    {
     "data": {
      "image/png": "[encoded data removed]",
      "text/plain": [
       "<Figure size 720x1440 with 2 Axes>"
      ]
     },
     "metadata": {
      "needs_background": "light"
     },
     "output_type": "display_data"
    }
   ],
   "source": [
    "plt.figure(figsize=(10, 20))\n",
    "plt.subplot(1, 2, 1)\n",
    "plt.imshow(pred_L)\n",
    "plt.subplot(1, 2, 2)\n",
    "plt.imshow(L)"
   ]
  },
  {
   "cell_type": "markdown",
   "id": "posted-jacob",
   "metadata": {},
   "source": [
    "# Grid graph"
   ]
  },
  {
   "cell_type": "code",
   "execution_count": 8,
   "id": "lonely-excess",
   "metadata": {},
   "outputs": [],
   "source": [
    "L = grid_graph(16)\n",
    "samples = smooth_signal_generator(L, n_samples)\n",
    "pred_L, _ = GLSigRep(samples, n_step=n_steps, beta=1e-2, alpha=1e-4)"
   ]
  },
  {
   "cell_type": "code",
   "execution_count": 9,
   "id": "younger-allocation",
   "metadata": {},
   "outputs": [
    {
     "data": {
      "text/plain": [
       "<matplotlib.image.AxesImage at 0x7f95da600610>"
      ]
     },
     "execution_count": 9,
     "metadata": {},
     "output_type": "execute_result"
    },
    {
     "data": {
      "image/png": "[encoded data removed]",
      "text/plain": [
       "<Figure size 720x1440 with 2 Axes>"
      ]
     },
     "metadata": {
      "needs_background": "light"
     },
     "output_type": "display_data"
    }
   ],
   "source": [
    "plt.figure(figsize=(10, 20))\n",
    "plt.subplot(1, 2, 1)\n",
    "plt.imshow(pred_L)\n",
    "plt.subplot(1, 2, 2)\n",
    "plt.imshow(L)"
   ]
  },
  {
   "cell_type": "markdown",
   "id": "known-orientation",
   "metadata": {},
   "source": [
    "## Rbf random "
   ]
  },
  {
   "cell_type": "code",
   "execution_count": 10,
   "id": "orange-species",
   "metadata": {},
   "outputs": [],
   "source": [
    "L = rbf_random_graph(16)\n",
    "samples = smooth_signal_generator(L, n_samples)\n",
    "pred_L, _ = GLSigRep(samples, n_step=n_steps, beta=1, alpha=1e-2)"
   ]
  },
  {
   "cell_type": "code",
   "execution_count": 11,
   "id": "homeless-dispatch",
   "metadata": {},
   "outputs": [
    {
     "data": {
      "text/plain": [
       "<matplotlib.image.AxesImage at 0x7f95e92546d0>"
      ]
     },
     "execution_count": 11,
     "metadata": {},
     "output_type": "execute_result"
    },
    {
     "data": {
      "image/png": "[encoded data removed]",
      "text/plain": [
       "<Figure size 720x1440 with 2 Axes>"
      ]
     },
     "metadata": {
      "needs_background": "light"
     },
     "output_type": "display_data"
    }
   ],
   "source": [
    "plt.figure(figsize=(10, 20))\n",
    "plt.subplot(1, 2, 1)\n",
    "plt.imshow(pred_L)\n",
    "plt.subplot(1, 2, 2)\n",
    "plt.imshow(L)"
   ]
  }
 ],
 "metadata": {
  "kernelspec": {
   "display_name": "Python 3",
   "language": "python",
   "name": "python3"
  },
  "language_info": {
   "codemirror_mode": {
    "name": "ipython",
    "version": 3
   },
   "file_extension": ".py",
   "mimetype": "text/x-python",
   "name": "python",
   "nbconvert_exporter": "python",
   "pygments_lexer": "ipython3",
   "version": "3.8.5"
  }
 },
 "nbformat": 4,
 "nbformat_minor": 5
}
