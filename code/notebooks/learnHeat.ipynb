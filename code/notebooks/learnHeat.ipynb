{
 "cells": [
  {
   "cell_type": "code",
   "execution_count": 6,
   "metadata": {},
   "outputs": [],
   "source": [
    "import numpy as np\n",
    "import pandas as pd\n",
    "\n",
    "from cvxopt import solvers, matrix\n",
    "solvers.options['show_progress'] = False\n",
    "\n",
    "import sys\n",
    "sys.path.append(\"../graph_signal_processing\")\n",
    "\n",
    "from graph_generator import line_graph, grid_graph, rbf_random_graph, er_random_graph\n",
    "from graph_signal_generator import heat_signal_generator\n",
    "from learn_heat import learn_heat\n",
    "from metrics import F1_score\n",
    "\n",
    "import matplotlib.pyplot as plt"
   ]
  },
  {
   "cell_type": "markdown",
   "metadata": {},
   "source": [
    "# Generating heat diffusion graph signals"
   ]
  },
  {
   "cell_type": "markdown",
   "metadata": {},
   "source": [
    "Le modèle du signal est:\n",
    "$$ x = \\mathcal{D}h + \\epsilon$$\n",
    "où $h$ est une variable latente, $\\mathcal{D}$ est la matrice de représentation. Dans la suite, nous ferons l'hyptohèse que des informations sur la structure du graphe sont contenues dans cette matrice. En particulier, on peut supposer que D est un dictionnaire de motifs spectraux du graph. \n",
    "\n",
    "Dans la suite, nous allons nous intéresser aux processes de diffusion sur graphs. La matrice du Laplacien sera utilisée pour modéliser cette diffusion (cf equation de la chaleur). \n",
    "$$ D = [exp(-\\tau_1 L), exp(-\\tau_2), ...]$$"
   ]
  },
  {
   "cell_type": "markdown",
   "metadata": {},
   "source": [
    "# Learning graphs from heat diffusion signals"
   ]
  },
  {
   "cell_type": "code",
   "execution_count": 8,
   "metadata": {},
   "outputs": [],
   "source": [
    "true_tau = [1.]\n",
    "n_samples = 1000 # number of signals simulated for each graph\n",
    "n_steps = 100 # number of maximum steps in learn_heat\n",
    "n_trials = 5 # number of trials for each graph and each set of parameters\n",
    "\n",
    "# hyperparameters for the grid search\n",
    "alpha_ = np.logspace(-6, 1, 8)\n",
    "beta_ = np.logspace(-4, 1, 6)\n",
    "threshold_ = np.logspace(-3, -1, 3)"
   ]
  },
  {
   "cell_type": "markdown",
   "metadata": {},
   "source": [
    "## Line graph"
   ]
  },
  {
   "cell_type": "code",
   "execution_count": 9,
   "metadata": {
    "scrolled": true
   },
   "outputs": [],
   "source": [
    "L = line_graph(16)"
   ]
  },
  {
   "cell_type": "code",
   "execution_count": 10,
   "metadata": {
    "scrolled": false
   },
   "outputs": [
    {
     "name": "stdout",
     "output_type": "stream",
     "text": [
      "alpha : 1e-06; beta : 0.0001; threshold : 0.001 --> F1 = 0.9295985438365861\n",
      "alpha : 1e-06; beta : 0.001; threshold : 0.001 --> F1 = 0.9378030303030304\n",
      "alpha : 1e-05; beta : 0.01; threshold : 0.001 --> F1 = 0.9507331378299121\n",
      "alpha : 0.001; beta : 0.01; threshold : 0.001 --> F1 = 0.9870967741935484\n",
      "alpha : 0.01; beta : 0.0001; threshold : 0.001 --> F1 = 0.9935483870967742\n",
      "alpha : 0.01; beta : 0.01; threshold : 0.001 --> F1 = 1.0\n"
     ]
    }
   ],
   "source": [
    "list_alpha = []\n",
    "list_beta = []\n",
    "list_threshold = []\n",
    "list_F1 = []\n",
    "\n",
    "best = 0.\n",
    "for alpha in alpha_:\n",
    "    for beta in beta_:\n",
    "        stats = [0] * len(threshold_)\n",
    "        for _ in range(n_trials):\n",
    "            samples, _ = heat_signal_generator(L, true_tau, n_samples)\n",
    "            pred_L, _, _ = learn_heat(samples, n_step=n_steps, beta=beta, alpha=alpha, s=len(true_tau), log_step=500, true_tau=true_tau)\n",
    "            for i, threshold in enumerate(threshold_):\n",
    "                stats[i] += F1_score(L, pred_L)\n",
    "        for i, threshold in enumerate(threshold_):\n",
    "            list_alpha.append(alpha)\n",
    "            list_beta.append(beta)\n",
    "            list_threshold.append(threshold)\n",
    "            F1 = stats[i] / n_trials\n",
    "            list_F1.append(F1)\n",
    "            if F1 > best:\n",
    "                best = F1\n",
    "                print(\"alpha : {0}; beta : {1}; threshold : {2} --> F1 = {3}\".format(alpha, beta, threshold, F1))\n",
    "results_list = pd.DataFrame({\"alpha\" : list_alpha, \"beta\" : list_beta, \"threshold\" : list_threshold, \"F1\" : list_F1})\n",
    "        "
   ]
  },
  {
   "cell_type": "code",
   "execution_count": 11,
   "metadata": {},
   "outputs": [],
   "source": [
    "results_list.to_csv(\"learnHeat_line_16_nodes_100_steps_5_trials.csv\")"
   ]
  },
  {
   "cell_type": "markdown",
   "metadata": {},
   "source": [
    "## Grid graph"
   ]
  },
  {
   "cell_type": "code",
   "execution_count": 12,
   "metadata": {},
   "outputs": [],
   "source": [
    "L = grid_graph(16)"
   ]
  },
  {
   "cell_type": "code",
   "execution_count": 13,
   "metadata": {},
   "outputs": [
    {
     "name": "stdout",
     "output_type": "stream",
     "text": [
      "alpha : 1e-06; beta : 0.0001; threshold : 0.001 --> F1 = 0.8806122448979592\n",
      "alpha : 1e-06; beta : 0.001; threshold : 0.001 --> F1 = 0.9030957310460417\n",
      "alpha : 1e-06; beta : 0.01; threshold : 0.001 --> F1 = 0.9121135758651286\n",
      "alpha : 0.0001; beta : 0.01; threshold : 0.001 --> F1 = 0.9304121648659465\n",
      "alpha : 0.001; beta : 0.01; threshold : 0.001 --> F1 = 0.9472244387116548\n",
      "alpha : 0.01; beta : 0.0001; threshold : 0.001 --> F1 = 1.0\n"
     ]
    }
   ],
   "source": [
    "list_alpha = []\n",
    "list_beta = []\n",
    "list_threshold = []\n",
    "list_F1 = []\n",
    "\n",
    "best = 0.\n",
    "\n",
    "for alpha in alpha_:\n",
    "    for beta in beta_:\n",
    "        stats = [0] * len(threshold_)\n",
    "        for _ in range(n_trials):\n",
    "            samples, _ = heat_signal_generator(L, true_tau, n_samples)\n",
    "            pred_L, _, _ = learn_heat(samples, n_step=n_steps, beta=beta, alpha=alpha, s=len(true_tau), log_step=500, true_tau=true_tau)\n",
    "            for i, threshold in enumerate(threshold_):\n",
    "                stats[i] += F1_score(L, pred_L)\n",
    "        for i, threshold in enumerate(threshold_):\n",
    "            list_alpha.append(alpha)\n",
    "            list_beta.append(beta)\n",
    "            list_threshold.append(threshold)\n",
    "            F1 = stats[i] / n_trials\n",
    "            list_F1.append(F1)\n",
    "            if F1 > best:\n",
    "                best = F1\n",
    "                print(\"alpha : {0}; beta : {1}; threshold : {2} --> F1 = {3}\".format(alpha, beta, threshold, F1))\n",
    "results_grid = pd.DataFrame({\"alpha\" : list_alpha, \"beta\" : list_beta, \"threshold\" : list_threshold, \"F1\" : list_F1})\n",
    "results_grid.to_csv(\"learnHeat_grid_16_nodes_100_steps_5_trials.csv\")     "
   ]
  },
  {
   "cell_type": "markdown",
   "metadata": {},
   "source": [
    "## RBF graph"
   ]
  },
  {
   "cell_type": "code",
   "execution_count": 14,
   "metadata": {},
   "outputs": [
    {
     "name": "stdout",
     "output_type": "stream",
     "text": [
      "alpha : 1e-06; beta : 0.0001; threshold : 0.001 --> F1 = 0.6171036179361804\n",
      "alpha : 1e-06; beta : 0.001; threshold : 0.001 --> F1 = 0.6305751315187023\n",
      "alpha : 1e-06; beta : 0.01; threshold : 0.001 --> F1 = 0.6650889316718447\n",
      "alpha : 1e-05; beta : 0.001; threshold : 0.001 --> F1 = 0.6887120479369647\n",
      "alpha : 0.001; beta : 0.0001; threshold : 0.001 --> F1 = 0.6924967668033847\n",
      "alpha : 0.01; beta : 0.0001; threshold : 0.001 --> F1 = 0.772091580020954\n",
      "alpha : 0.01; beta : 0.001; threshold : 0.001 --> F1 = 0.7787347499893202\n",
      "alpha : 0.01; beta : 0.01; threshold : 0.001 --> F1 = 0.8437521073383099\n"
     ]
    }
   ],
   "source": [
    "L = rbf_random_graph(16)\n",
    "\n",
    "list_alpha = []\n",
    "list_beta = []\n",
    "list_threshold = []\n",
    "list_F1 = []\n",
    "\n",
    "best = 0.\n",
    "\n",
    "for alpha in alpha_:\n",
    "    for beta in beta_:\n",
    "        stats = [0] * len(threshold_)\n",
    "        for _ in range(n_trials):\n",
    "            samples, _ = heat_signal_generator(L, true_tau, n_samples)\n",
    "            pred_L, _, _ = learn_heat(samples, n_step=n_steps, beta=beta, alpha=alpha, s=len(true_tau), log_step=500, true_tau=true_tau)\n",
    "            for i, threshold in enumerate(threshold_):\n",
    "                stats[i] += F1_score(L, pred_L)\n",
    "        for i, threshold in enumerate(threshold_):\n",
    "            list_alpha.append(alpha)\n",
    "            list_beta.append(beta)\n",
    "            list_threshold.append(threshold)\n",
    "            F1 = stats[i] / n_trials\n",
    "            list_F1.append(F1)\n",
    "            if F1 > best:\n",
    "                best = F1\n",
    "                print(\"alpha : {0}; beta : {1}; threshold : {2} --> F1 = {3}\".format(alpha, beta, threshold, F1))\n",
    "results_rbf = pd.DataFrame({\"alpha\" : list_alpha, \"beta\" : list_beta, \"threshold\" : list_threshold, \"F1\" : list_F1})\n",
    "results_rbf.to_csv(\"learnHeat_rbf_16_nodes_100_steps_5_trials.csv\")     "
   ]
  },
  {
   "cell_type": "markdown",
   "metadata": {},
   "source": [
    "# Some visualization"
   ]
  },
  {
   "cell_type": "markdown",
   "metadata": {},
   "source": [
    "## Line"
   ]
  },
  {
   "cell_type": "code",
   "execution_count": 30,
   "metadata": {},
   "outputs": [],
   "source": [
    "L = line_graph(16)\n",
    "samples, H = heat_signal_generator(L, true_tau, n_samples)\n",
    "pred_L, pred_H, _ = learn_heat(samples, n_step=n_steps, beta=1e-2, alpha=1e-2, s=len(true_tau), log_step=500, true_tau=true_tau)"
   ]
  },
  {
   "cell_type": "code",
   "execution_count": 33,
   "metadata": {},
   "outputs": [
    {
     "data": {
      "text/plain": [
       "<matplotlib.image.AxesImage at 0x7fbfa0656ee0>"
      ]
     },
     "execution_count": 33,
     "metadata": {},
     "output_type": "execute_result"
    },
    {
     "data": {
      "image/png": "[encoded data removed]",
      "text/plain": [
       "<Figure size 720x1440 with 2 Axes>"
      ]
     },
     "metadata": {
      "needs_background": "light"
     },
     "output_type": "display_data"
    }
   ],
   "source": [
    "plt.figure(figsize=(10, 20))\n",
    "plt.subplot(1, 2, 1)\n",
    "plt.imshow(pred_L)\n",
    "plt.subplot(1, 2, 2)\n",
    "plt.imshow(L)"
   ]
  },
  {
   "cell_type": "code",
   "execution_count": 41,
   "metadata": {
    "scrolled": false
   },
   "outputs": [
    {
     "data": {
      "text/plain": [
       "<matplotlib.image.AxesImage at 0x7fbfb10295b0>"
      ]
     },
     "execution_count": 41,
     "metadata": {},
     "output_type": "execute_result"
    },
    {
     "data": {
      "image/png": "[encoded data removed]",
      "text/plain": [
       "<Figure size 720x7200 with 2 Axes>"
      ]
     },
     "metadata": {
      "needs_background": "light"
     },
     "output_type": "display_data"
    }
   ],
   "source": [
    "plt.figure(figsize=(10, 100))\n",
    "plt.subplot(1, 2, 1)\n",
    "plt.imshow(pred_H[:20, :20])\n",
    "plt.subplot(1, 2, 2)\n",
    "plt.imshow(H[:20, :20])"
   ]
  },
  {
   "cell_type": "markdown",
   "metadata": {},
   "source": [
    "## Grid"
   ]
  },
  {
   "cell_type": "code",
   "execution_count": 36,
   "metadata": {},
   "outputs": [],
   "source": [
    "L = grid_graph(16)\n",
    "samples, H = heat_signal_generator(L, true_tau, n_samples)\n",
    "pred_L, pred_H, _ = learn_heat(samples, n_step=n_steps, beta=1e-4, alpha=1e-2, s=len(true_tau), log_step=500, true_tau=true_tau)"
   ]
  },
  {
   "cell_type": "code",
   "execution_count": 37,
   "metadata": {
    "scrolled": true
   },
   "outputs": [
    {
     "data": {
      "text/plain": [
       "<matplotlib.image.AxesImage at 0x7fbfb0efd6d0>"
      ]
     },
     "execution_count": 37,
     "metadata": {},
     "output_type": "execute_result"
    },
    {
     "data": {
      "image/png": "[encoded data removed]",
      "text/plain": [
       "<Figure size 720x1440 with 2 Axes>"
      ]
     },
     "metadata": {
      "needs_background": "light"
     },
     "output_type": "display_data"
    }
   ],
   "source": [
    "plt.figure(figsize=(10, 20))\n",
    "plt.subplot(1, 2, 1)\n",
    "plt.imshow(pred_L)\n",
    "plt.subplot(1, 2, 2)\n",
    "plt.imshow(L)"
   ]
  },
  {
   "cell_type": "code",
   "execution_count": 40,
   "metadata": {
    "scrolled": false
   },
   "outputs": [
    {
     "data": {
      "text/plain": [
       "<matplotlib.image.AxesImage at 0x7fbf9118da90>"
      ]
     },
     "execution_count": 40,
     "metadata": {},
     "output_type": "execute_result"
    },
    {
     "data": {
      "image/png": "[encoded data removed]",
      "text/plain": [
       "<Figure size 720x7200 with 2 Axes>"
      ]
     },
     "metadata": {
      "needs_background": "light"
     },
     "output_type": "display_data"
    }
   ],
   "source": [
    "plt.figure(figsize=(10, 100))\n",
    "plt.subplot(1, 2, 1)\n",
    "plt.imshow(pred_H[:20, :20])\n",
    "plt.subplot(1, 2, 2)\n",
    "plt.imshow(H[:20, :20])"
   ]
  },
  {
   "cell_type": "markdown",
   "metadata": {},
   "source": [
    "## RBF"
   ]
  },
  {
   "cell_type": "code",
   "execution_count": 39,
   "metadata": {
    "scrolled": false
   },
   "outputs": [],
   "source": [
    "L = rbf_random_graph(16)\n",
    "samples, H = heat_signal_generator(L, true_tau, n_samples)\n",
    "pred_L, pred_H, _ = learn_heat(samples, n_step=n_steps, beta=1e-4, alpha=1e-2, s=len(true_tau), log_step=500, true_tau=true_tau)"
   ]
  },
  {
   "cell_type": "code",
   "execution_count": 42,
   "metadata": {},
   "outputs": [
    {
     "data": {
      "text/plain": [
       "<matplotlib.image.AxesImage at 0x7fbf914d4280>"
      ]
     },
     "execution_count": 42,
     "metadata": {},
     "output_type": "execute_result"
    },
    {
     "data": {
      "image/png": "[encoded data removed]",
      "text/plain": [
       "<Figure size 720x1440 with 2 Axes>"
      ]
     },
     "metadata": {
      "needs_background": "light"
     },
     "output_type": "display_data"
    }
   ],
   "source": [
    "plt.figure(figsize=(10, 20))\n",
    "plt.subplot(1, 2, 1)\n",
    "plt.imshow(pred_L)\n",
    "plt.subplot(1, 2, 2)\n",
    "plt.imshow(L)"
   ]
  },
  {
   "cell_type": "code",
   "execution_count": 44,
   "metadata": {
    "scrolled": false
   },
   "outputs": [
    {
     "data": {
      "text/plain": [
       "<matplotlib.image.AxesImage at 0x7fbfa0701940>"
      ]
     },
     "execution_count": 44,
     "metadata": {},
     "output_type": "execute_result"
    },
    {
     "data": {
      "image/png": "[encoded data removed]",
      "text/plain": [
       "<Figure size 720x14400 with 2 Axes>"
      ]
     },
     "metadata": {
      "needs_background": "light"
     },
     "output_type": "display_data"
    }
   ],
   "source": [
    "plt.figure(figsize=(10, 200))\n",
    "plt.subplot(1, 2, 1)\n",
    "plt.imshow(pred_H[:20, :20])\n",
    "plt.subplot(1, 2, 2)\n",
    "plt.imshow(H[:20, :20])"
   ]
  },
  {
   "cell_type": "code",
   "execution_count": null,
   "metadata": {},
   "outputs": [],
   "source": []
  }
 ],
 "metadata": {
  "kernelspec": {
   "display_name": "Python 3",
   "language": "python",
   "name": "python3"
  },
  "language_info": {
   "codemirror_mode": {
    "name": "ipython",
    "version": 3
   },
   "file_extension": ".py",
   "mimetype": "text/x-python",
   "name": "python",
   "nbconvert_exporter": "python",
   "pygments_lexer": "ipython3",
   "version": "3.8.3"
  }
 },
 "nbformat": 4,
 "nbformat_minor": 5
}
